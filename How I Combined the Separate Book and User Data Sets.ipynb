{
 "cells": [
  {
   "cell_type": "code",
   "execution_count": 2,
   "id": "47234289",
   "metadata": {},
   "outputs": [],
   "source": [
    "import numpy as np\n",
    "import matplotlib\n",
    "from matplotlib import pyplot as plt\n",
    "import pandas as pd\n",
    "import os\n",
    "import glob"
   ]
  },
  {
   "cell_type": "code",
   "execution_count": 4,
   "id": "95e86552",
   "metadata": {},
   "outputs": [
    {
     "name": "stdout",
     "output_type": "stream",
     "text": [
      " Books\t\t\t 'Draft 1.ipynb'  'Draft2 - working on.ipynb'\r\n",
      " Combined_User_data.csv  'Draft 3.ipynb'   User\r\n"
     ]
    }
   ],
   "source": [
    "!ls"
   ]
  },
  {
   "cell_type": "markdown",
   "id": "2cff18df",
   "metadata": {},
   "source": [
    "I first combined all of the book and user datasets into 2 csv files\n",
    "Combined_Book_data.csv\n",
    "Combined_User_data.csv\n",
    "\n",
    "This is the code I used for combining both\n",
    "\n",
    "(I had all the book files in a folder named 'Books' and all the user files in a folder named 'User')"
   ]
  },
  {
   "cell_type": "code",
   "execution_count": 5,
   "id": "da5963d3",
   "metadata": {},
   "outputs": [
    {
     "name": "stdout",
     "output_type": "stream",
     "text": [
      "book1-100k.csv\t     book1600k-1700k.csv  book4000k-5000k.csv\r\n",
      "book1000k-1100k.csv  book1700k-1800k.csv  book400k-500k.csv\r\n",
      "book100k-200k.csv    book1800k-1900k.csv  book500k-600k.csv\r\n",
      "book1100k-1200k.csv  book1900k-2000k.csv  book600k-700k.csv\r\n",
      "book1200k-1300k.csv  book2000k-3000k.csv  book700k-800k.csv\r\n",
      "book1300k-1400k.csv  book200k-300k.csv\t  book800k-900k.csv\r\n",
      "book1400k-1500k.csv  book3000k-4000k.csv  book900k-1000k.csv\r\n",
      "book1500k-1600k.csv  book300k-400k.csv\r\n"
     ]
    }
   ],
   "source": [
    "#going into the folder with the files\n",
    "os.chdir(\"Books\")\n",
    "#checking to see I am in the folder\n",
    "!ls\n",
    "#combing all the files \n",
    "file_extension = '.csv'\n",
    "all_filenames = [i for i in glob.glob(f\"*{file_extension}\")]\n",
    "all_filenames\n",
    "#reading 1 file to see\n",
    "# pd.read_csv( 'user_rating_0_to_1000.csv')\n",
    "#combining the files\n",
    "Book_df = pd.concat([pd.read_csv(file) for file in all_filenames])\n",
    "Book_df\n",
    "#going back \n",
    "os.chdir(\"..\")\n",
    "#saving the new combined books dataframe \n",
    "Book_df.to_csv('Combined_Book_data.csv')"
   ]
  },
  {
   "cell_type": "code",
   "execution_count": 7,
   "id": "39de2f43",
   "metadata": {},
   "outputs": [
    {
     "name": "stdout",
     "output_type": "stream",
     "text": [
      " Books\t\t\t 'Draft 1.ipynb'\t       User\r\n",
      " Combined_Book_data.csv  'Draft 3.ipynb'\r\n",
      " Combined_User_data.csv  'Draft2 - working on.ipynb'\r\n"
     ]
    }
   ],
   "source": [
    "!ls"
   ]
  },
  {
   "cell_type": "code",
   "execution_count": null,
   "id": "31658f20",
   "metadata": {},
   "outputs": [],
   "source": []
  }
 ],
 "metadata": {
  "kernelspec": {
   "display_name": "Python 3 (ipykernel)",
   "language": "python",
   "name": "python3"
  },
  "language_info": {
   "codemirror_mode": {
    "name": "ipython",
    "version": 3
   },
   "file_extension": ".py",
   "mimetype": "text/x-python",
   "name": "python",
   "nbconvert_exporter": "python",
   "pygments_lexer": "ipython3",
   "version": "3.10.6"
  }
 },
 "nbformat": 4,
 "nbformat_minor": 5
}
